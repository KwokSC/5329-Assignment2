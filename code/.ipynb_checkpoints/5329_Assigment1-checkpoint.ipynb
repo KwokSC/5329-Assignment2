{
 "cells": [
  {
   "cell_type": "markdown",
   "metadata": {
    "id": "D7lso1DqOyKS"
   },
   "source": [
    "# Import"
   ]
  },
  {
   "cell_type": "markdown",
   "metadata": {
    "id": "IOVXpZWGZTXj"
   },
   "source": [
    "## Import library"
   ]
  },
  {
   "cell_type": "code",
   "execution_count": 1,
   "metadata": {
    "id": "H7cAL17iNyCf"
   },
   "outputs": [],
   "source": [
    "import numpy as np\n",
    "import pandas as pd\n",
    "import matplotlib\n",
    "import matplotlib.pyplot as plt"
   ]
  },
  {
   "cell_type": "markdown",
   "metadata": {
    "id": "2KsHLBXiO9VA"
   },
   "source": [
    "## Load data and Preprocess"
   ]
  },
  {
   "cell_type": "code",
   "execution_count": 2,
   "metadata": {
    "id": "sOfi1Z46hhsL"
   },
   "outputs": [
    {
     "name": "stdout",
     "output_type": "stream",
     "text": [
      "training data: (50000, 128)\n",
      "training label: (50000, 1)\n",
      "testing data: (10000, 128)\n",
      "testing label: (10000, 1)\n"
     ]
    }
   ],
   "source": [
    "# Data loading\n",
    "\n",
    "train_data = np.load('train_data.npy') \n",
    "train_label = np.load('train_label.npy')\n",
    "test_data = np.load('test_data.npy')\n",
    "test_label = np.load('test_label.npy')\n",
    "\n",
    "# View tha training and testing data size\n",
    "print('training data:', train_data.shape)\n",
    "print('training label:', train_label.shape)\n",
    "print('testing data:', test_data.shape)\n",
    "print('testing label:', test_label.shape)"
   ]
  },
  {
   "cell_type": "markdown",
   "metadata": {
    "id": "lP86YZjxx1Jy"
   },
   "source": [
    "## Standardization\n"
   ]
  },
  {
   "cell_type": "code",
   "execution_count": 3,
   "metadata": {
    "colab": {
     "base_uri": "https://localhost:8080/"
    },
    "id": "YIVudaacxwQG",
    "outputId": "510137d0-e3a1-4d73-8214-78320618bffb"
   },
   "outputs": [
    {
     "data": {
      "text/plain": [
       "array([-6.40101763e+00,  2.72903876e+00,  1.50171052e+00, -2.95333250e+00,\n",
       "       -4.45258190e+00,  6.47149656e-01,  5.68989471e-01,  9.28765346e-02,\n",
       "        3.45177072e+00,  1.16844225e+00,  4.12262271e-01, -1.32795562e-02,\n",
       "        3.60960209e-01,  4.10935006e-01, -5.60710596e-01, -6.59708223e-01,\n",
       "       -5.35212501e-01,  3.36156598e-01,  6.70266073e-01, -5.73464766e-01,\n",
       "       -9.43983604e-01, -1.27795195e+00,  6.19706914e-01, -8.11451450e-01,\n",
       "       -1.30338577e+00,  8.87080873e-01, -3.94094561e-02,  1.38968930e+00,\n",
       "       -9.55414473e-01,  1.51582653e-01, -1.81479669e-01, -2.66471902e-02,\n",
       "       -9.14707203e-01,  5.54702774e-01,  1.74085655e+00, -2.75764892e-01,\n",
       "        3.54705531e-01, -4.93757045e-01,  9.72585559e-01, -3.56544507e-01,\n",
       "        4.44407630e-01, -7.11760066e-01, -2.10485568e-01, -1.95222119e-01,\n",
       "       -2.50534390e-01, -5.02192676e-02,  6.61725813e-02, -3.42287515e-01,\n",
       "       -8.70073548e-01,  8.27415780e-01, -5.44980639e-01, -6.04615254e-01,\n",
       "       -1.65766832e-01,  3.75317751e-01,  1.47112219e-01, -5.26894086e-01,\n",
       "       -4.76636915e-01,  7.15779366e-01,  4.86399243e-01,  7.14369158e-02,\n",
       "       -3.60091670e-01, -7.84648742e-01,  4.56440672e-01,  8.30984559e-02,\n",
       "        7.35547756e-02,  7.45343512e-01, -7.03306592e-01, -9.46013082e-02,\n",
       "        1.24204538e-01, -8.75017121e-02, -2.29846865e-02, -2.53721263e-01,\n",
       "       -3.79963164e-01, -2.02271578e-01, -2.00227558e-01,  3.28365315e-02,\n",
       "       -5.04975390e-02, -3.88405913e-01,  1.04576755e-01, -2.17925204e-01,\n",
       "        2.59418162e-01,  1.35364313e-01,  4.19502124e-01,  3.01544551e-01,\n",
       "        2.04374794e-01, -2.84013058e-01, -6.14248215e-02, -7.71767557e-02,\n",
       "        5.71806860e-01, -2.54340079e-02, -6.47018754e-01, -2.74550429e-01,\n",
       "        3.06272889e-02, -2.68183414e-02, -6.68497439e-01, -6.01371854e-01,\n",
       "       -4.56937613e-01,  1.46597339e-01,  1.50411191e-01,  1.67793736e-02,\n",
       "        1.17630203e-01,  6.65266615e-01,  4.66685340e-01,  1.91394263e-01,\n",
       "       -1.23896958e-01,  2.45308719e-01,  7.51161627e-02,  2.24987747e-01,\n",
       "       -5.34703735e-01,  1.37832949e-01,  5.17000751e-01, -4.22527194e-01,\n",
       "        1.28098307e-01, -1.39768226e-03, -6.43378807e-01, -3.65287467e-01,\n",
       "       -4.79355665e-02,  2.47618426e-01,  3.10960737e-02, -5.68328730e-01,\n",
       "        7.88520566e-02, -5.16113698e-01, -5.33383345e-01,  1.82485467e-01,\n",
       "       -1.16055430e-01,  2.29333687e-01, -1.53582898e-01,  5.44041275e-01])"
      ]
     },
     "execution_count": 3,
     "metadata": {},
     "output_type": "execute_result"
    }
   ],
   "source": [
    "# Standardization\n",
    "train_data_stand = (train_data - np.mean(train_data, axis = 0) / np.std(train_data, axis = 0))\n",
    "\n",
    "test_data_stand = (test_data - np.mean(test_data, axis = 0) / np.std(test_data, axis = 0))\n",
    "# Sample of normalized data\n",
    "train_data_stand[0]"
   ]
  },
  {
   "cell_type": "markdown",
   "metadata": {
    "id": "LGUmzlHYx8WY"
   },
   "source": [
    "## One-hot encoding"
   ]
  },
  {
   "cell_type": "code",
   "execution_count": 4,
   "metadata": {
    "colab": {
     "base_uri": "https://localhost:8080/"
    },
    "id": "xRQcVt_Ux7di",
    "outputId": "770775af-5ecd-4824-e37a-85517488224b"
   },
   "outputs": [
    {
     "name": "stdout",
     "output_type": "stream",
     "text": [
      "[[0. 0. 0. ... 0. 0. 0.]\n",
      " [0. 0. 0. ... 0. 0. 1.]\n",
      " [0. 0. 0. ... 0. 0. 1.]\n",
      " ...\n",
      " [0. 0. 0. ... 0. 0. 1.]\n",
      " [0. 1. 0. ... 0. 0. 0.]\n",
      " [0. 1. 0. ... 0. 0. 0.]]\n"
     ]
    }
   ],
   "source": [
    "# we want to make a clear learnable label data type which can be achieved by one-hot encoding\n",
    "def onehotencoder(data):\n",
    "    onehot_label = np.zeros((len(data), 10))\n",
    "    for i, label in enumerate(data):\n",
    "        onehot_label[i, label] = 1.\n",
    "    return onehot_label\n",
    "\n",
    "train_label = onehotencoder(train_label)\n",
    "test_label = onehotencoder(test_label)\n",
    "\n",
    "# Sample of one-hot label\n",
    "print(train_label)"
   ]
  },
  {
   "cell_type": "markdown",
   "metadata": {
    "id": "TtUmoKNoPdZx"
   },
   "source": [
    "## Prepare for the training model"
   ]
  },
  {
   "cell_type": "code",
   "execution_count": 5,
   "metadata": {
    "id": "aNClkvDovtp5"
   },
   "outputs": [],
   "source": [
    "# The final vision of data preprocess\n",
    "x1 = train_data_stand\n",
    "y1 = train_label"
   ]
  },
  {
   "cell_type": "markdown",
   "metadata": {
    "id": "i7pEW41fJUwe"
   },
   "source": [
    "# Bulit Multilayer Neural Network"
   ]
  },
  {
   "cell_type": "markdown",
   "metadata": {
    "id": "zL7-iwYAjBx8"
   },
   "source": [
    "## Definition of some activation functiondnctions"
   ]
  },
  {
   "cell_type": "code",
   "execution_count": 6,
   "metadata": {
    "id": "o9DvoV9UjIGA"
   },
   "outputs": [],
   "source": [
    "class Activation(object):\n",
    "    \n",
    "    ## relu\n",
    "    def __relu(self, x):\n",
    "        return np.maximum(0, x)\n",
    "    def __relu_deriv(self, a):\n",
    "        # a = __relu(x)\n",
    "        a[a <= 0] = 0\n",
    "        a[a > 0] = 1\n",
    "        return a    \n",
    "\n",
    "    ## softmax\n",
    "    def __softmax(self, x):\n",
    "        s_x = x - np.max(x,axis=1,keepdims=True)\n",
    "        exp_x = np.exp(s_x)\n",
    "        return exp_x / np.sum(exp_x,axis=1,keepdims=True)\n",
    "\n",
    "    def __init__(self,activation='relu'):\n",
    "        if activation == 'logistic':\n",
    "            self.f = self.__logistic\n",
    "            self.f_deriv = self.__logistic_deriv\n",
    "        elif activation == 'tanh':\n",
    "            self.f = self.__tanh\n",
    "            self.f_deriv = self.__tanh_deriv\n",
    "        elif activation == 'relu':\n",
    "            self.f = self.__relu\n",
    "            self.f_deriv = self.__relu_deriv\n",
    "        elif activation == 'softmax':\n",
    "            self.f = self.__softmax"
   ]
  },
  {
   "cell_type": "markdown",
   "metadata": {
    "id": "q-8yi_2Dj1L8"
   },
   "source": [
    "## Define HiddenLayer"
   ]
  },
  {
   "cell_type": "code",
   "execution_count": 7,
   "metadata": {
    "id": "Ndvdbr9tj0Ro"
   },
   "outputs": [],
   "source": [
    "class HiddenLayer(object):    \n",
    "    def __init__(self,n_in, n_out, activation_last_layer, activation):\n",
    "        \n",
    "        self.input = None\n",
    "        self.activation = None\n",
    "        self.softmax = False\n",
    "        self.activation_deriv = None\n",
    "        \n",
    "        if activation:\n",
    "            self.activation = Activation(activation).f\n",
    "            \n",
    "        if activation == 'softmax':\n",
    "            self.softmax = True\n",
    "        \n",
    "        # activation deriv of last layer\n",
    "        if activation_last_layer:\n",
    "            self.activation_deriv=Activation(activation_last_layer).f_deriv\n",
    "\n",
    "        # we randomly assign small values for the weights as the initiallization(xavier)\n",
    "        self.W = np.random.uniform(\n",
    "                low=-np.sqrt(6. / (n_in + n_out)),\n",
    "                high=np.sqrt(6. / (n_in + n_out)),\n",
    "                size=(n_in, n_out)\n",
    "        )\n",
    "        # if activation == 'logistic':\n",
    "        #     self.W *= 4\n",
    "\n",
    "        # we set the size of bias as the size of output dimension\n",
    "        self.b = np.zeros(n_out,)\n",
    "        \n",
    "\n",
    "        # we set he size of weight gradation as the size of weight\n",
    "        self.grad_W = np.zeros(self.W.shape)\n",
    "        self.grad_b = np.zeros(self.b.shape)\n",
    "        \n",
    "        # we set he size of momentum as the size of weight\n",
    "        self.W_v = np.zeros(self.W.shape)\n",
    "        self.b_v = np.zeros(self.b.shape)\n",
    "        \n",
    "        # we set the size of bias for batch normalization\n",
    "        self.gamma = np.ones((1, int(np.prod(n_out))))\n",
    "        self.beta = np.zeros((1, int(np.prod(n_out))))\n",
    "        \n",
    "        # we set the size of bias gradation for batch normalization\n",
    "        self.gamma_d = np.zeros((1, int(np.prod(n_out))))\n",
    "        self.beta_d = np.zeros((1, int(np.prod(n_out))))\n",
    "    \n",
    "    # the forward and backward progress (in the hidden layer level) for each training epoch\n",
    "    def forward(self, input, dropout, bn):\n",
    "        lin_output = np.dot(input, self.W) + self.b\n",
    "        \n",
    "        if self.softmax == False:\n",
    "            \n",
    "            if dropout > 0:\n",
    "                self.mask, lin_output = dropout_forward(lin_output, dropout)\n",
    "            \n",
    "            if bn:\n",
    "                self.batch_sqrt, self.output_hat, lin_output = bn_forward(lin_output, self.gamma, self.beta)\n",
    "   \n",
    "        self.output = (\n",
    "            lin_output if self.activation is None\n",
    "            else self.activation(lin_output)\n",
    "        )\n",
    "        \n",
    "        self.input=input\n",
    "        return self.output\n",
    "\n",
    "\n",
    "    def backward(self, delta, dropout, bn, lambd = 0.1, output_layer = False):         \n",
    "        \n",
    "        self.grad_W = np.atleast_2d(self.input).T.dot(np.atleast_2d(delta)) - lambd/self.input.shape[0]*self.W\n",
    "        self.grad_b = delta\n",
    "        \n",
    "        if self.softmax == False:\n",
    "            if lambd > 0:\n",
    "                self.grad_W = np.atleast_2d(self.input).T.dot(np.atleast_2d(delta)) - lambd/self.input.shape[0]*self.W\n",
    "                \n",
    "            if dropout > 0:\n",
    "                delta = dropout_backward(delta,self.mask)\n",
    "            \n",
    "            if bn:\n",
    "                delta, self.gamma_d, self.beta_d = bn_backward(delta, self.batch_sqrt, self.output_hat, self.gamma, self.beta)\n",
    "        \n",
    "        if self.activation_deriv:\n",
    "            delta = delta.dot(self.W.T) * self.activation_deriv(self.input)\n",
    "            \n",
    "        return delta"
   ]
  },
  {
   "cell_type": "markdown",
   "metadata": {
    "id": "0-WQ7XLJKEte"
   },
   "source": [
    "## Define Dropout"
   ]
  },
  {
   "cell_type": "code",
   "execution_count": 8,
   "metadata": {
    "id": "-4moKCDhKJfK"
   },
   "outputs": [],
   "source": [
    "def dropout_forward(x, rate):\n",
    "    p = 1-rate\n",
    "    mask = np.random.binomial(1, p, size = x.shape)/p\n",
    "    output = x * mask\n",
    "    return mask, output\n",
    "    \n",
    "def dropout_backward(delta, mask):\n",
    "    delta = mask * delta\n",
    "    return delta"
   ]
  },
  {
   "cell_type": "markdown",
   "metadata": {
    "id": "DynRU0tBKL_8"
   },
   "source": [
    "## Define Batch Normalisation"
   ]
  },
  {
   "cell_type": "code",
   "execution_count": 9,
   "metadata": {
    "id": "bfU8on8-KQR8"
   },
   "outputs": [],
   "source": [
    "def bn_forward(x, gamma, beta):\n",
    "        # get the standard deviation of batch\n",
    "        batch_sqrt = np.sqrt(np.var(x))\n",
    "        output_hat = (x - np.mean(x)) / batch_sqrt\n",
    "        output = gamma * output_hat + beta\n",
    "        return batch_sqrt, output_hat, output\n",
    "\n",
    "def bn_backward(delta, batch_sqrt, output_hat, gamma, beta):\n",
    "        delta_n = delta.shape[0]\n",
    "        beta_d = np.sum(delta, axis=0)\n",
    "        gamma_d = np.sum(output_hat * delta, axis=0)\n",
    "        delta = (gamma * (1 / batch_sqrt) / delta_n) * (delta_n * delta - output_hat * gamma_d - beta_d)\n",
    "        return delta, gamma_d, beta_d"
   ]
  },
  {
   "cell_type": "markdown",
   "metadata": {
    "id": "Io3FI0PrkCcI"
   },
   "source": [
    "## The MLP\n",
    "The class implements a MLP with a fully configurable number of layers and neurons. It adapts its weights using the backpropagation algorithm in an online manner."
   ]
  },
  {
   "cell_type": "code",
   "execution_count": 10,
   "metadata": {
    "id": "nR_wVe3ekHHq"
   },
   "outputs": [],
   "source": [
    "class MLP:\n",
    "\n",
    "    def __init__(self, layers, activation):\n",
    "        self.layers = []\n",
    "        for i in range(len(layers) - 1):\n",
    "            self.layers.append(HiddenLayer(layers[i], layers[i + 1], activation[i], activation[i + 1]))\n",
    "\n",
    "    def forward(self, input, dropout = 0, bn = True):\n",
    "        for i in range(len(self.layers)):\n",
    "            # forward computation\n",
    "            output = self.layers[i].forward(input, dropout, bn)\n",
    "            input = output\n",
    "        return output\n",
    "\n",
    "    def backward(self, delta, dropout = 0, bn = True, lambd = 0.1):\n",
    "        for layer in reversed(self.layers):\n",
    "            # backward computation\n",
    "            delta = layer.backward(delta, dropout, bn, lambd)\n",
    "\n",
    "    # Updating the parameters\n",
    "    def update(self, lr, gamma_momentum = 0.1):\n",
    "        for layer in self.layers:\n",
    "            # Momentum adjustments\n",
    "            layer.W_v = lr * layer.grad_W + gamma_momentum * layer.W_v\n",
    "            layer.b_v = lr * np.mean(layer.grad_b, axis = 0) + gamma_momentum * layer.b_v\n",
    "            layer.gamma -= layer.gamma_d\n",
    "            layer.beta -= layer.beta_d\n",
    "            layer.b -= layer.b_v\n",
    "            layer.W -= layer.W_v\n",
    "\n",
    "    def fit(self, X, y, batch_size, dropout, bn, lr, gamma_momentum, lambd, epochs):\n",
    "        X = np.array(X)\n",
    "        y = np.array(y)\n",
    "        to_return = np.zeros(epochs)\n",
    "        \n",
    "        total_batch = X.shape[0] // batch_size\n",
    "        label_shape = y.shape[1]\n",
    "        \n",
    "        for k in range(epochs):\n",
    "            loss = np.zeros(total_batch)\n",
    "            delta = np.zeros((total_batch, label_shape))\n",
    "            \n",
    "            for i in range(total_batch):\n",
    "                start = i * batch_size\n",
    "                end = (i+1) * batch_size\n",
    "                X_batch = X[start:end]\n",
    "                y_batch = y[start:end]\n",
    "                # forward computation\n",
    "                y_hat = self.forward(X_batch, dropout, bn)\n",
    "                # backward computation\n",
    "                loss[i], delta = self.cross_entropy(y_batch, y_hat, lambd)\n",
    "                self.backward(delta, dropout, bn, lambd)\n",
    "                # update parameters\n",
    "                self.update(lr, gamma_momentum)\n",
    "                \n",
    "            to_return[k] = np.mean(loss)\n",
    "            print(\"Current epoch : {}, Loss : {}\".format(k+1, np.round(to_return[k],6)))\n",
    "        return to_return\n",
    "\n",
    "    def cross_entropy(self, y, y_hat, lambd=0.1):\n",
    "        len_train = y.shape[0]\n",
    "        error = y_hat - y\n",
    "        # calculate the delta of the output layer\n",
    "        delta = error/len_train\n",
    "        # cross entropy loss\n",
    "        loss = np.sum(-np.log(y_hat[np.arange(len_train), y.argmax(axis=1)]))/len_train\n",
    "        # weight decay\n",
    "        if lambd > 0:\n",
    "            for layer in self.layers:\n",
    "                cross_entropy_loss = (np.sum(np.square(layer.W)))*(lambd/(2*len_train))\n",
    "                loss = loss + cross_entropy_loss\n",
    "        return loss,delta\n",
    "\n",
    "    def predict(self, x, label_shape):\n",
    "        x = np.array(x)\n",
    "        output = np.zeros((x.shape[0], label_shape))\n",
    "        for i in np.arange(x.shape[0]):\n",
    "            output[i] = self.forward(np.atleast_2d(x[i,:]))\n",
    "        return output"
   ]
  },
  {
   "cell_type": "markdown",
   "metadata": {
    "id": "REU1rBM8943T"
   },
   "source": [
    "# Initialize hyperparameters & nn"
   ]
  },
  {
   "cell_type": "code",
   "execution_count": 11,
   "metadata": {
    "id": "0y025n5H5rmm"
   },
   "outputs": [],
   "source": [
    "training_data = x1   \n",
    "training_label = y1\n",
    "\n",
    "# learning rate\n",
    "lr = 0.02 \n",
    "\n",
    "# weight decay coefficient\n",
    "lambd = 0.00\n",
    "\n",
    "# mini batch size\n",
    "batch_size = 200\n",
    "\n",
    "# dropout ratio     \n",
    "dropout = 0.2\n",
    "\n",
    "# momentum gamma value\n",
    "gamma_momentum = 0.8\n",
    "\n",
    "# batch normalisation\n",
    "bn  = True \n",
    "\n",
    "# epochs\n",
    "epochs = 100\n",
    "\n",
    "# dataset has 10 calsses in total\n",
    "classes = train_label.shape[1]\n",
    "\n",
    "# set neurons for each layer, the input layer should be 128 and 10 for output layer\n",
    "set_hidden_nodes = [128, 256, 256, 10]\n",
    "\n",
    "# the activation function for each layers\n",
    "each_layer_activation = [None, 'relu', 'relu', 'softmax'] \n",
    "\n",
    "# Initial the neural network\n",
    "nn = MLP(set_hidden_nodes, each_layer_activation)"
   ]
  },
  {
   "cell_type": "markdown",
   "metadata": {
    "id": "XkZckgwTrxPt"
   },
   "source": [
    "# Train the model"
   ]
  },
  {
   "cell_type": "markdown",
   "metadata": {
    "id": "XVPId589wRuB"
   },
   "source": [
    "## Fit the model"
   ]
  },
  {
   "cell_type": "code",
   "execution_count": 12,
   "metadata": {
    "colab": {
     "base_uri": "https://localhost:8080/"
    },
    "id": "UQAhn3I1sYEa",
    "outputId": "4f4ceeb6-0dc7-437a-8be2-41b81fc75a05"
   },
   "outputs": [
    {
     "name": "stdout",
     "output_type": "stream",
     "text": [
      "Current epoch : 1, Loss : 1.980977\n",
      "Current epoch : 2, Loss : 1.82912\n",
      "Current epoch : 3, Loss : 1.785462\n",
      "Current epoch : 4, Loss : 1.764617\n",
      "Current epoch : 5, Loss : 1.745575\n",
      "Current epoch : 6, Loss : 1.726939\n",
      "Current epoch : 7, Loss : 1.713933\n",
      "Current epoch : 8, Loss : 1.701896\n",
      "Current epoch : 9, Loss : 1.684685\n",
      "Current epoch : 10, Loss : 1.669488\n",
      "Current epoch : 11, Loss : 1.658134\n",
      "Current epoch : 12, Loss : 1.648513\n",
      "Current epoch : 13, Loss : 1.639993\n",
      "Current epoch : 14, Loss : 1.639601\n",
      "Current epoch : 15, Loss : 1.636724\n",
      "Current epoch : 16, Loss : 1.646452\n",
      "Current epoch : 17, Loss : 1.649263\n",
      "Current epoch : 18, Loss : 1.659439\n",
      "Current epoch : 19, Loss : 1.660275\n",
      "Current epoch : 20, Loss : 1.665847\n",
      "Current epoch : 21, Loss : 1.669841\n",
      "Current epoch : 22, Loss : 1.672318\n",
      "Current epoch : 23, Loss : 1.675613\n",
      "Current epoch : 24, Loss : 1.677486\n",
      "Current epoch : 25, Loss : 1.678267\n",
      "Current epoch : 26, Loss : 1.683255\n",
      "Current epoch : 27, Loss : 1.683281\n",
      "Current epoch : 28, Loss : 1.684138\n",
      "Current epoch : 29, Loss : 1.685856\n",
      "Current epoch : 30, Loss : 1.683561\n",
      "Current epoch : 31, Loss : 1.689989\n",
      "Current epoch : 32, Loss : 1.685742\n",
      "Current epoch : 33, Loss : 1.68501\n",
      "Current epoch : 34, Loss : 1.681247\n",
      "Current epoch : 35, Loss : 1.68868\n",
      "Current epoch : 36, Loss : 1.689523\n",
      "Current epoch : 37, Loss : 1.685857\n",
      "Current epoch : 38, Loss : 1.685767\n",
      "Current epoch : 39, Loss : 1.685778\n",
      "Current epoch : 40, Loss : 1.688712\n",
      "Current epoch : 41, Loss : 1.687742\n",
      "Current epoch : 42, Loss : 1.687198\n",
      "Current epoch : 43, Loss : 1.688202\n",
      "Current epoch : 44, Loss : 1.691269\n",
      "Current epoch : 45, Loss : 1.688006\n",
      "Current epoch : 46, Loss : 1.690943\n"
     ]
    },
    {
     "ename": "KeyboardInterrupt",
     "evalue": "",
     "output_type": "error",
     "traceback": [
      "\u001b[0;31m---------------------------------------------------------------------------\u001b[0m",
      "\u001b[0;31mKeyboardInterrupt\u001b[0m                         Traceback (most recent call last)",
      "Input \u001b[0;32mIn [12]\u001b[0m, in \u001b[0;36m<cell line: 2>\u001b[0;34m()\u001b[0m\n\u001b[1;32m      1\u001b[0m \u001b[38;5;66;03m# Train the neural network\u001b[39;00m\n\u001b[0;32m----> 2\u001b[0m model \u001b[38;5;241m=\u001b[39m \u001b[43mnn\u001b[49m\u001b[38;5;241;43m.\u001b[39;49m\u001b[43mfit\u001b[49m\u001b[43m(\u001b[49m\u001b[43mtraining_data\u001b[49m\u001b[43m,\u001b[49m\u001b[43m \u001b[49m\u001b[43mtraining_label\u001b[49m\u001b[43m,\u001b[49m\u001b[43m \u001b[49m\u001b[43mlr\u001b[49m\u001b[38;5;241;43m=\u001b[39;49m\u001b[43mlr\u001b[49m\u001b[43m,\u001b[49m\u001b[43m \u001b[49m\u001b[43mepochs\u001b[49m\u001b[38;5;241;43m=\u001b[39;49m\u001b[43mepochs\u001b[49m\u001b[43m,\u001b[49m\u001b[43m \u001b[49m\u001b[43mbatch_size\u001b[49m\u001b[43m \u001b[49m\u001b[38;5;241;43m=\u001b[39;49m\u001b[43m \u001b[49m\u001b[43mbatch_size\u001b[49m\u001b[43m,\u001b[49m\n\u001b[1;32m      3\u001b[0m \u001b[43m               \u001b[49m\u001b[43mdropout\u001b[49m\u001b[38;5;241;43m=\u001b[39;49m\u001b[43mdropout\u001b[49m\u001b[43m,\u001b[49m\u001b[43m \u001b[49m\u001b[43mbn\u001b[49m\u001b[43m \u001b[49m\u001b[38;5;241;43m=\u001b[39;49m\u001b[43m \u001b[49m\u001b[43mbn\u001b[49m\u001b[43m,\u001b[49m\u001b[43m \u001b[49m\u001b[43mgamma_momentum\u001b[49m\u001b[43m \u001b[49m\u001b[38;5;241;43m=\u001b[39;49m\u001b[43m \u001b[49m\u001b[43mgamma_momentum\u001b[49m\u001b[43m,\u001b[49m\u001b[43m \u001b[49m\u001b[43mlambd\u001b[49m\u001b[38;5;241;43m=\u001b[39;49m\u001b[43mlambd\u001b[49m\u001b[43m)\u001b[49m \n\u001b[1;32m      5\u001b[0m \u001b[38;5;28mprint\u001b[39m(\u001b[38;5;124m\"\u001b[39m\u001b[38;5;124mLoss:\u001b[39m\u001b[38;5;132;01m%f\u001b[39;00m\u001b[38;5;124m\"\u001b[39m\u001b[38;5;241m%\u001b[39mmodel[\u001b[38;5;241m-\u001b[39m\u001b[38;5;241m1\u001b[39m])\n",
      "Input \u001b[0;32mIn [10]\u001b[0m, in \u001b[0;36mMLP.fit\u001b[0;34m(self, X, y, batch_size, dropout, bn, lr, gamma_momentum, lambd, epochs)\u001b[0m\n\u001b[1;32m     48\u001b[0m \u001b[38;5;66;03m# backward computation\u001b[39;00m\n\u001b[1;32m     49\u001b[0m loss[i], delta \u001b[38;5;241m=\u001b[39m \u001b[38;5;28mself\u001b[39m\u001b[38;5;241m.\u001b[39mcross_entropy(y_batch, y_hat, lambd)\n\u001b[0;32m---> 50\u001b[0m \u001b[38;5;28;43mself\u001b[39;49m\u001b[38;5;241;43m.\u001b[39;49m\u001b[43mbackward\u001b[49m\u001b[43m(\u001b[49m\u001b[43mdelta\u001b[49m\u001b[43m,\u001b[49m\u001b[43m \u001b[49m\u001b[43mdropout\u001b[49m\u001b[43m,\u001b[49m\u001b[43m \u001b[49m\u001b[43mbn\u001b[49m\u001b[43m,\u001b[49m\u001b[43m \u001b[49m\u001b[43mlambd\u001b[49m\u001b[43m)\u001b[49m\n\u001b[1;32m     51\u001b[0m \u001b[38;5;66;03m# update parameters\u001b[39;00m\n\u001b[1;32m     52\u001b[0m \u001b[38;5;28mself\u001b[39m\u001b[38;5;241m.\u001b[39mupdate(lr, gamma_momentum)\n",
      "Input \u001b[0;32mIn [10]\u001b[0m, in \u001b[0;36mMLP.backward\u001b[0;34m(self, delta, dropout, bn, lambd)\u001b[0m\n\u001b[1;32m     15\u001b[0m \u001b[38;5;28;01mdef\u001b[39;00m \u001b[38;5;21mbackward\u001b[39m(\u001b[38;5;28mself\u001b[39m, delta, dropout \u001b[38;5;241m=\u001b[39m \u001b[38;5;241m0\u001b[39m, bn \u001b[38;5;241m=\u001b[39m \u001b[38;5;28;01mTrue\u001b[39;00m, lambd \u001b[38;5;241m=\u001b[39m \u001b[38;5;241m0.1\u001b[39m):\n\u001b[1;32m     16\u001b[0m     \u001b[38;5;28;01mfor\u001b[39;00m layer \u001b[38;5;129;01min\u001b[39;00m \u001b[38;5;28mreversed\u001b[39m(\u001b[38;5;28mself\u001b[39m\u001b[38;5;241m.\u001b[39mlayers):\n\u001b[1;32m     17\u001b[0m         \u001b[38;5;66;03m# backward computation\u001b[39;00m\n\u001b[0;32m---> 18\u001b[0m         delta \u001b[38;5;241m=\u001b[39m \u001b[43mlayer\u001b[49m\u001b[38;5;241;43m.\u001b[39;49m\u001b[43mbackward\u001b[49m\u001b[43m(\u001b[49m\u001b[43mdelta\u001b[49m\u001b[43m,\u001b[49m\u001b[43m \u001b[49m\u001b[43mdropout\u001b[49m\u001b[43m,\u001b[49m\u001b[43m \u001b[49m\u001b[43mbn\u001b[49m\u001b[43m,\u001b[49m\u001b[43m \u001b[49m\u001b[43mlambd\u001b[49m\u001b[43m)\u001b[49m\n",
      "Input \u001b[0;32mIn [7]\u001b[0m, in \u001b[0;36mHiddenLayer.backward\u001b[0;34m(self, delta, dropout, bn, lambd, output_layer)\u001b[0m\n\u001b[1;32m     65\u001b[0m \u001b[38;5;28;01mdef\u001b[39;00m \u001b[38;5;21mbackward\u001b[39m(\u001b[38;5;28mself\u001b[39m, delta, dropout, bn, lambd \u001b[38;5;241m=\u001b[39m \u001b[38;5;241m0.1\u001b[39m, output_layer \u001b[38;5;241m=\u001b[39m \u001b[38;5;28;01mFalse\u001b[39;00m):         \n\u001b[0;32m---> 67\u001b[0m     \u001b[38;5;28mself\u001b[39m\u001b[38;5;241m.\u001b[39mgrad_W \u001b[38;5;241m=\u001b[39m \u001b[43mnp\u001b[49m\u001b[38;5;241;43m.\u001b[39;49m\u001b[43matleast_2d\u001b[49m\u001b[43m(\u001b[49m\u001b[38;5;28;43mself\u001b[39;49m\u001b[38;5;241;43m.\u001b[39;49m\u001b[43minput\u001b[49m\u001b[43m)\u001b[49m\u001b[38;5;241;43m.\u001b[39;49m\u001b[43mT\u001b[49m\u001b[38;5;241;43m.\u001b[39;49m\u001b[43mdot\u001b[49m\u001b[43m(\u001b[49m\u001b[43mnp\u001b[49m\u001b[38;5;241;43m.\u001b[39;49m\u001b[43matleast_2d\u001b[49m\u001b[43m(\u001b[49m\u001b[43mdelta\u001b[49m\u001b[43m)\u001b[49m\u001b[43m)\u001b[49m \u001b[38;5;241m-\u001b[39m lambd\u001b[38;5;241m/\u001b[39m\u001b[38;5;28mself\u001b[39m\u001b[38;5;241m.\u001b[39minput\u001b[38;5;241m.\u001b[39mshape[\u001b[38;5;241m0\u001b[39m]\u001b[38;5;241m*\u001b[39m\u001b[38;5;28mself\u001b[39m\u001b[38;5;241m.\u001b[39mW\n\u001b[1;32m     68\u001b[0m     \u001b[38;5;28mself\u001b[39m\u001b[38;5;241m.\u001b[39mgrad_b \u001b[38;5;241m=\u001b[39m delta\n\u001b[1;32m     70\u001b[0m     \u001b[38;5;28;01mif\u001b[39;00m \u001b[38;5;28mself\u001b[39m\u001b[38;5;241m.\u001b[39msoftmax \u001b[38;5;241m==\u001b[39m \u001b[38;5;28;01mFalse\u001b[39;00m:\n",
      "\u001b[0;31mKeyboardInterrupt\u001b[0m: "
     ]
    }
   ],
   "source": [
    "# Train the neural network\n",
    "model = nn.fit(training_data, training_label, lr=lr, epochs=epochs, batch_size = batch_size,\n",
    "               dropout=dropout, bn = bn, gamma_momentum = gamma_momentum, lambd=lambd) \n",
    "\n",
    "print(\"Loss:%f\"%model[-1])"
   ]
  },
  {
   "cell_type": "markdown",
   "metadata": {
    "id": "ZHAvtWUCwb-K"
   },
   "source": [
    "## Plot loss in epochs\n",
    "We can visualize the loss change during the training process, to under how we can the network. As we can see, the loss staies at the large level at the beginning, but drop quickly within the training. A small loss value indicate a well-trained network."
   ]
  },
  {
   "cell_type": "code",
   "execution_count": 20,
   "metadata": {
    "colab": {
     "base_uri": "https://localhost:8080/",
     "height": 296
    },
    "id": "aVsGpbCx3sRS",
    "outputId": "09d4e077-88e3-44f8-dae2-02474eb8b231"
   },
   "outputs": [
    {
     "data": {
      "image/png": "[encoded data removed]",
      "text/plain": [
       "<Figure size 432x288 with 1 Axes>"
      ]
     },
     "metadata": {
      "needs_background": "light"
     },
     "output_type": "display_data"
    },
    {
     "name": "stdout",
     "output_type": "stream",
     "text": [
      "the final loss value is: 1.146080\n"
     ]
    }
   ],
   "source": [
    "# model record the loss (a list a loss in each epoch)\n",
    "# 已修改\n",
    "plt.plot(model)\n",
    "plt.grid(linestyle=\":\",color=\"r\")\n",
    "plt.xlabel(\"epochs\")\n",
    "plt.ylabel(\"loss\")\n",
    "plt.show()\n",
    "print(\"the final loss value is: %f\"%(model[-1]) )"
   ]
  },
  {
   "cell_type": "markdown",
   "metadata": {
    "id": "SPqvqARBsqym"
   },
   "source": [
    "# Define some support functions"
   ]
  },
  {
   "cell_type": "markdown",
   "metadata": {
    "id": "trAQQSdztc2h"
   },
   "source": [
    "## Get output"
   ]
  },
  {
   "cell_type": "code",
   "execution_count": 21,
   "metadata": {
    "id": "tn-eRBoftcgc"
   },
   "outputs": [],
   "source": [
    "# get the output (decoding the one-hot encoding outputs)\n",
    "def change_classes (output):     # y_train is a list of number from 1-9, while we need to get the value of the position in one-hot\n",
    "    y_hat = np.argmax(output, axis=1) # Returns the index of the maximum value along the axis\n",
    "    return y_hat   # so the return value got the same type towards y_train and y_test"
   ]
  },
  {
   "cell_type": "markdown",
   "metadata": {
    "id": "KYTF_OUPcFf5"
   },
   "source": [
    "## Get accuracy"
   ]
  },
  {
   "cell_type": "code",
   "execution_count": 22,
   "metadata": {
    "id": "I18S7XuGcKhq"
   },
   "outputs": [],
   "source": [
    "# calculate the accuracy\n",
    "def get_accuracy (y, y_hat):\n",
    "    all_nums = y.shape[0] # calculate the whole nums of predictions\n",
    "\n",
    "    right_predict = np.sum(y_hat == y) # count the right nums\n",
    "\n",
    "    acc = right_predict / all_nums\n",
    "    print (\"The accuracy is %f,\"%(acc), end=\"\")\n",
    "    print (\"in %d samples.\"%(all_nums))\n",
    "\n",
    "    return acc"
   ]
  },
  {
   "cell_type": "markdown",
   "metadata": {
    "id": "qAN1a88xx9ue"
   },
   "source": [
    "## Get confusion matrix"
   ]
  },
  {
   "cell_type": "code",
   "execution_count": 23,
   "metadata": {
    "id": "UWokid5ox8fz"
   },
   "outputs": [],
   "source": [
    "def confusion_matrix(y_hat, Yp):\n",
    "    ytrue = len(np.unique(y_hat))\n",
    "    ypred = len(np.unique(Yp))\n",
    "    matri = np.zeros((ytrue, ypred))\n",
    "    for i in range(len(y_hat)):\n",
    "        m = y_hat[i]\n",
    "        n = Yp[i]\n",
    "        matri[m,n] += 1\n",
    "    return matri"
   ]
  },
  {
   "cell_type": "markdown",
   "metadata": {
    "id": "qHK2kh3pcGAt"
   },
   "source": [
    "## Get f1-score"
   ]
  },
  {
   "cell_type": "code",
   "execution_count": 24,
   "metadata": {
    "id": "ik5_AaEccMuU"
   },
   "outputs": [],
   "source": [
    "# function to calculate average value\n",
    "def get_mean(arr):\n",
    "    # average value\n",
    "    arr_mean = np.mean(arr)\n",
    "    return arr_mean\n",
    "\n",
    "\n",
    "def get_f1(conf_mat):\n",
    "    # save value into arrays\n",
    "    RecallPrec2 = {'precision': [], 'recall': []}\n",
    "    n = len(conf_mat)\n",
    "    for i in range(len(conf_mat[0])):\n",
    "        rowsum, colsum = sum(conf_mat[i]), sum(conf_mat[r][i] for r in range(n))\n",
    "        try:\n",
    "            preV = (conf_mat[i][i]/float(colsum))\n",
    "            recV = (conf_mat[i][i]/float(rowsum))\n",
    "            RecallPrec2['precision'].append(preV)\n",
    "            RecallPrec2['recall'].append(recV)\n",
    "\n",
    "        except ZeroDivisionError:\n",
    "            RecallPrec2['precision'].append(0)\n",
    "            RecallPrec2['recall'].append(0)\n",
    "    # from matrix to get all the value\n",
    "    arrRec = RecallPrec2.get('precision')\n",
    "    arrPre = RecallPrec2.get('recall')\n",
    "    valueRec = get_mean(arrRec)\n",
    "    valuePre = get_mean(arrPre)\n",
    "\n",
    "    f1 = (2 * valuePre * valueRec) / (valuePre + valueRec)\n",
    "    return f1\n"
   ]
  },
  {
   "cell_type": "markdown",
   "metadata": {
    "id": "eDPHdm8NfZwK"
   },
   "source": [
    "# Check model performs "
   ]
  },
  {
   "cell_type": "markdown",
   "metadata": {
    "id": "NFrVqN1osyLD"
   },
   "source": [
    "## Prediction of training data, shape of (50000, 128)"
   ]
  },
  {
   "cell_type": "code",
   "execution_count": 25,
   "metadata": {
    "colab": {
     "base_uri": "https://localhost:8080/"
    },
    "id": "t7uvAZXMs1bi",
    "outputId": "db620d4a-d35f-4caf-dfc5-e63ae48d02e0"
   },
   "outputs": [
    {
     "name": "stdout",
     "output_type": "stream",
     "text": [
      "The accuracy is 0.658080,in 50000 samples.\n",
      "acc value:  0.65808\n",
      "f1 value: 0.6580673385960981\n"
     ]
    }
   ],
   "source": [
    "# calculate the accuracy\n",
    "ta_hat = nn.predict(x1, classes)\n",
    "ta_predic = change_classes(ta_hat)\n",
    "confMatrix = confusion_matrix(change_classes(y1), ta_predic)\n",
    "print('acc value: ', get_accuracy(ta_predic, change_classes(y1)))\n",
    "print('f1 value:', get_f1(confMatrix))"
   ]
  },
  {
   "cell_type": "code",
   "execution_count": 26,
   "metadata": {
    "colab": {
     "base_uri": "https://localhost:8080/",
     "height": 254
    },
    "id": "LHUq3EQo7ycW",
    "outputId": "5542a799-9822-41ba-96fd-ef6fc8806aae"
   },
   "outputs": [
    {
     "data": {
      "image/png": "[encoded data removed]",
      "text/plain": [
       "<Figure size 288x288 with 2 Axes>"
      ]
     },
     "metadata": {
      "needs_background": "light"
     },
     "output_type": "display_data"
    }
   ],
   "source": [
    "#visualize confusion matrix for train data\n",
    "plt.matshow(confMatrix, cmap=plt.cm.Greens) \n",
    "plt.colorbar()\n",
    "for a in range(len(confMatrix)): \n",
    "    for b in range(len(confMatrix)):\n",
    "        plt.annotate(int(confMatrix[a,b]), xy=(a, b), horizontalalignment='center', verticalalignment='center')\n",
    "plt.ylabel('Label True')\n",
    "plt.xlabel('Label actual') \n",
    "# plt.savefig('TrainConfMatrix.png', dpi=220)\n",
    "plt.show()"
   ]
  },
  {
   "cell_type": "markdown",
   "metadata": {
    "id": "HCgkyXXEiDc1"
   },
   "source": [
    "## Prediction of test data, shape of (10000, 128)"
   ]
  },
  {
   "cell_type": "code",
   "execution_count": 27,
   "metadata": {
    "colab": {
     "base_uri": "https://localhost:8080/"
    },
    "id": "YvwwTJlVh-0g",
    "outputId": "792060bb-c622-4a4a-a705-2b240381a13c"
   },
   "outputs": [
    {
     "name": "stdout",
     "output_type": "stream",
     "text": [
      "The accuracy is 0.568200,in 10000 samples.\n",
      "acc value:  0.5682\n",
      "f1 value: 0.5680201990257723\n"
     ]
    }
   ],
   "source": [
    "# calculate the accuracy\n",
    "t_hat = nn.predict(test_data_stand, classes)\n",
    "t_predic = change_classes(t_hat)\n",
    "testDataMatri = confusion_matrix(change_classes(test_label), t_predic)\n",
    "print('acc value: ', get_accuracy(t_predic, change_classes(test_label)))\n",
    "print('f1 value:', get_f1(testDataMatri))"
   ]
  },
  {
   "cell_type": "code",
   "execution_count": 28,
   "metadata": {
    "colab": {
     "base_uri": "https://localhost:8080/",
     "height": 254
    },
    "id": "UuMTbOuVicXo",
    "outputId": "4ea546c2-e0a4-47ed-e9f6-ac2fea0da04d"
   },
   "outputs": [
    {
     "data": {
      "image/png": "[encoded data removed]",
      "text/plain": [
       "<Figure size 288x288 with 2 Axes>"
      ]
     },
     "metadata": {
      "needs_background": "light"
     },
     "output_type": "display_data"
    }
   ],
   "source": [
    "#visualize confusion matrix for test_data\n",
    "plt.matshow(testDataMatri, cmap=plt.cm.Greens) \n",
    "plt.colorbar()\n",
    "for a in range(len(testDataMatri)): \n",
    "    for b in range(len(testDataMatri)):\n",
    "        plt.annotate(int(testDataMatri[a,b]), xy=(a, b), horizontalalignment='center', verticalalignment='center')\n",
    "plt.ylabel('Label True')\n",
    "plt.xlabel('Label actual') \n",
    "# plt.savefig('TestConfMatrix.png', dpi=220)\n",
    "plt.show()"
   ]
  }
 ],
 "metadata": {
  "accelerator": "GPU",
  "colab": {
   "collapsed_sections": [],
   "name": "5329 Assigment1.ipynb",
   "provenance": []
  },
  "kernelspec": {
   "display_name": "Python 3 (ipykernel)",
   "language": "python",
   "name": "python3"
  },
  "language_info": {
   "codemirror_mode": {
    "name": "ipython",
    "version": 3
   },
   "file_extension": ".py",
   "mimetype": "text/x-python",
   "name": "python",
   "nbconvert_exporter": "python",
   "pygments_lexer": "ipython3",
   "version": "3.9.10"
  }
 },
 "nbformat": 4,
 "nbformat_minor": 1
}
